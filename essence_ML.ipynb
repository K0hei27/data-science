{
 "cells": [
  {
   "cell_type": "code",
   "execution_count": 2,
   "metadata": {},
   "outputs": [
    {
     "name": "stdout",
     "output_type": "stream",
     "text": [
      "Hi\n",
      "Hi\n",
      "Hi\n"
     ]
    }
   ],
   "source": [
    "for i in range(3):\n",
    "    print(\"Hi\")"
   ]
  },
  {
   "cell_type": "code",
   "execution_count": 3,
   "metadata": {},
   "outputs": [],
   "source": [
    "def hello(a):\n",
    "    if a > 100:\n",
    "        print(\"Hello\")\n",
    "    else:\n",
    "        print(\"Boo\")"
   ]
  },
  {
   "cell_type": "code",
   "execution_count": 4,
   "metadata": {},
   "outputs": [
    {
     "name": "stdout",
     "output_type": "stream",
     "text": [
      "Boo\n"
     ]
    }
   ],
   "source": [
    "hello(10)"
   ]
  },
  {
   "cell_type": "code",
   "execution_count": 5,
   "metadata": {},
   "outputs": [
    {
     "name": "stdout",
     "output_type": "stream",
     "text": [
      "0\n",
      "1\n",
      "2\n",
      "3\n",
      "4\n"
     ]
    }
   ],
   "source": [
    "i = 0\n",
    "while i <5:\n",
    "    print(i)\n",
    "    i += 1"
   ]
  },
  {
   "cell_type": "code",
   "execution_count": 6,
   "metadata": {},
   "outputs": [],
   "source": [
    "l = [i**2 for i in range(5)]"
   ]
  },
  {
   "cell_type": "code",
   "execution_count": 7,
   "metadata": {},
   "outputs": [
    {
     "name": "stdout",
     "output_type": "stream",
     "text": [
      "[0, 1, 4, 9, 16]\n"
     ]
    }
   ],
   "source": [
    "print(l)"
   ]
  },
  {
   "cell_type": "code",
   "execution_count": 8,
   "metadata": {},
   "outputs": [
    {
     "name": "stdout",
     "output_type": "stream",
     "text": [
      "0\n",
      "1\n",
      "4\n",
      "9\n",
      "16\n"
     ]
    }
   ],
   "source": [
    "for i in l:\n",
    "    print(i)"
   ]
  },
  {
   "cell_type": "code",
   "execution_count": 9,
   "metadata": {},
   "outputs": [],
   "source": [
    "import datetime"
   ]
  },
  {
   "cell_type": "code",
   "execution_count": 10,
   "metadata": {},
   "outputs": [],
   "source": [
    "d = datetime.date(2017,1,1)"
   ]
  },
  {
   "cell_type": "code",
   "execution_count": 11,
   "metadata": {},
   "outputs": [
    {
     "data": {
      "text/plain": [
       "2017"
      ]
     },
     "execution_count": 11,
     "metadata": {},
     "output_type": "execute_result"
    }
   ],
   "source": [
    "d.year"
   ]
  },
  {
   "cell_type": "code",
   "execution_count": 12,
   "metadata": {},
   "outputs": [
    {
     "data": {
      "text/plain": [
       "<function date.weekday>"
      ]
     },
     "execution_count": 12,
     "metadata": {},
     "output_type": "execute_result"
    }
   ],
   "source": [
    "d.weekday"
   ]
  },
  {
   "cell_type": "code",
   "execution_count": 13,
   "metadata": {},
   "outputs": [
    {
     "data": {
      "text/plain": [
       "6"
      ]
     },
     "execution_count": 13,
     "metadata": {},
     "output_type": "execute_result"
    }
   ],
   "source": [
    "d.weekday()"
   ]
  },
  {
   "cell_type": "code",
   "execution_count": 14,
   "metadata": {},
   "outputs": [
    {
     "data": {
      "text/plain": [
       "'\\n・クラス：設計図\\n・インスタンス：実際に作った物\\n・オブジェクト：モノ（クラスとかインスタンスとかをふんわりと表現したもの）\\n・コンストラクタ：クラスのインスタンス生成時に実行されるメソッドで、クラスのメンバー変数を初期化する\\n'"
      ]
     },
     "execution_count": 14,
     "metadata": {},
     "output_type": "execute_result"
    }
   ],
   "source": [
    "class Person():\n",
    "    def __init__(self,first_name=\"\",last_name=\"\"):\n",
    "        self.first_name = first_name #与えられた変数をデータ属性に設定\n",
    "        self.last_name = last_name\n",
    "        \n",
    "'''\n",
    "・クラス：設計図\n",
    "・インスタンス：実際に作った物\n",
    "・オブジェクト：モノ（クラスとかインスタンスとかをふんわりと表現したもの）\n",
    "・コンストラクタ：クラスのインスタンス生成時に実行されるメソッドで、クラスのメンバー変数を初期化する\n",
    "'''"
   ]
  },
  {
   "cell_type": "code",
   "execution_count": 15,
   "metadata": {},
   "outputs": [
    {
     "name": "stdout",
     "output_type": "stream",
     "text": [
      "/bin/sh: Personクラスをインスタンス化して変数person1に代入し、因数にJohn,Smithが与えられ、インスタンス内のデータ属性に設定する。: command not found\r\n"
     ]
    }
   ],
   "source": [
    "person1 = Person(\"John\",\"Smith\")\n",
    "!Personクラスをインスタンス化して変数person1に代入し、因数に\"John\",\"Smith\"が与えられ、インスタンス内のデータ属性に設定する。"
   ]
  },
  {
   "cell_type": "code",
   "execution_count": 16,
   "metadata": {},
   "outputs": [
    {
     "data": {
      "text/plain": [
       "'John'"
      ]
     },
     "execution_count": 16,
     "metadata": {},
     "output_type": "execute_result"
    }
   ],
   "source": [
    "person1.first_name"
   ]
  },
  {
   "cell_type": "code",
   "execution_count": 17,
   "metadata": {},
   "outputs": [],
   "source": [
    "person2 = Person()"
   ]
  },
  {
   "cell_type": "code",
   "execution_count": 18,
   "metadata": {},
   "outputs": [],
   "source": [
    "person2.first_name = \"Paul\"\n",
    "person2.last_name = \"Smith\""
   ]
  },
  {
   "cell_type": "code",
   "execution_count": 19,
   "metadata": {},
   "outputs": [
    {
     "data": {
      "text/plain": [
       "'Paul'"
      ]
     },
     "execution_count": 19,
     "metadata": {},
     "output_type": "execute_result"
    }
   ],
   "source": [
    "person2.first_name"
   ]
  },
  {
   "cell_type": "code",
   "execution_count": 20,
   "metadata": {},
   "outputs": [],
   "source": [
    "class calc:\n",
    "    def __init__(self,a,b,c):\n",
    "        self.a = a\n",
    "        self.b = b\n",
    "        self.c = c\n",
    "    \n",
    "    def solve(self,p):\n",
    "        x = p\n",
    "        y = self.a*x**2+self.b*x+self.c\n",
    "        return y"
   ]
  },
  {
   "cell_type": "code",
   "execution_count": 21,
   "metadata": {},
   "outputs": [],
   "source": [
    "calc1 = calc(a = 1,b = 1,c = 1)"
   ]
  },
  {
   "cell_type": "code",
   "execution_count": 22,
   "metadata": {},
   "outputs": [
    {
     "data": {
      "text/plain": [
       "1"
      ]
     },
     "execution_count": 22,
     "metadata": {},
     "output_type": "execute_result"
    }
   ],
   "source": [
    "calc1.a"
   ]
  },
  {
   "cell_type": "code",
   "execution_count": 23,
   "metadata": {
    "scrolled": true
   },
   "outputs": [
    {
     "name": "stdout",
     "output_type": "stream",
     "text": [
      "3\n"
     ]
    }
   ],
   "source": [
    "print(calc1.solve(1))"
   ]
  },
  {
   "cell_type": "markdown",
   "metadata": {},
   "source": [
    "## numpy使い方 "
   ]
  },
  {
   "cell_type": "code",
   "execution_count": 24,
   "metadata": {},
   "outputs": [],
   "source": [
    "import numpy as np\n",
    "a = np.arange(16)"
   ]
  },
  {
   "cell_type": "code",
   "execution_count": 25,
   "metadata": {},
   "outputs": [],
   "source": [
    "c = a.reshape(4,-1) #-1は自動的に計算することを表す"
   ]
  },
  {
   "cell_type": "code",
   "execution_count": 26,
   "metadata": {},
   "outputs": [
    {
     "data": {
      "text/plain": [
       "array([[ 0,  1,  2,  3],\n",
       "       [ 4,  5,  6,  7],\n",
       "       [ 8,  9, 10, 11],\n",
       "       [12, 13, 14, 15]])"
      ]
     },
     "execution_count": 26,
     "metadata": {},
     "output_type": "execute_result"
    }
   ],
   "source": [
    "c"
   ]
  },
  {
   "cell_type": "code",
   "execution_count": 27,
   "metadata": {},
   "outputs": [
    {
     "data": {
      "text/plain": [
       "array([[0, 1, 2],\n",
       "       [3, 4, 5]])"
      ]
     },
     "execution_count": 27,
     "metadata": {},
     "output_type": "execute_result"
    }
   ],
   "source": [
    "a = np.arange(6)\n",
    "a =  a.reshape(2,-1)\n",
    "a"
   ]
  },
  {
   "cell_type": "code",
   "execution_count": 28,
   "metadata": {},
   "outputs": [
    {
     "data": {
      "text/plain": [
       "array([[ 6.,  7.,  8.],\n",
       "       [ 9., 10., 11.]])"
      ]
     },
     "execution_count": 28,
     "metadata": {},
     "output_type": "execute_result"
    }
   ],
   "source": [
    "b = np.linspace(6,11,6)\n",
    "b = b.reshape(2,-1)\n",
    "b"
   ]
  },
  {
   "cell_type": "code",
   "execution_count": 29,
   "metadata": {},
   "outputs": [
    {
     "data": {
      "text/plain": [
       "array([[ 0.,  1.,  2.],\n",
       "       [ 3.,  4.,  5.],\n",
       "       [ 6.,  7.,  8.],\n",
       "       [ 9., 10., 11.]])"
      ]
     },
     "execution_count": 29,
     "metadata": {},
     "output_type": "execute_result"
    }
   ],
   "source": [
    "np.r_[a,b]"
   ]
  },
  {
   "cell_type": "code",
   "execution_count": 30,
   "metadata": {},
   "outputs": [
    {
     "data": {
      "text/plain": [
       "array([[ 0.,  1.,  2.,  6.,  7.,  8.],\n",
       "       [ 3.,  4.,  5.,  9., 10., 11.]])"
      ]
     },
     "execution_count": 30,
     "metadata": {},
     "output_type": "execute_result"
    }
   ],
   "source": [
    "np.c_[a,b]"
   ]
  },
  {
   "cell_type": "code",
   "execution_count": 31,
   "metadata": {},
   "outputs": [
    {
     "data": {
      "text/plain": [
       "array([[ 3,  1,  1],\n",
       "       [ 1,  2,  1],\n",
       "       [ 0, -1,  1]])"
      ]
     },
     "execution_count": 31,
     "metadata": {},
     "output_type": "execute_result"
    }
   ],
   "source": [
    "a = np.array([[3,1,1],[1,2,1],[0,-1,1]])\n",
    "a"
   ]
  },
  {
   "cell_type": "code",
   "execution_count": 32,
   "metadata": {},
   "outputs": [
    {
     "data": {
      "text/plain": [
       "array([[ 0.42857143, -0.28571429, -0.14285714],\n",
       "       [-0.14285714,  0.42857143, -0.28571429],\n",
       "       [-0.14285714,  0.42857143,  0.71428571]])"
      ]
     },
     "execution_count": 32,
     "metadata": {},
     "output_type": "execute_result"
    }
   ],
   "source": [
    "np.linalg.inv(a) #逆行列を求める"
   ]
  },
  {
   "cell_type": "code",
   "execution_count": 33,
   "metadata": {},
   "outputs": [],
   "source": [
    "b = np.array([1,2,3])"
   ]
  },
  {
   "cell_type": "code",
   "execution_count": 34,
   "metadata": {},
   "outputs": [
    {
     "data": {
      "text/plain": [
       "array([-0.57142857, -0.14285714,  2.85714286])"
      ]
     },
     "execution_count": 34,
     "metadata": {},
     "output_type": "execute_result"
    }
   ],
   "source": [
    "np.linalg.solve(a,b) #方程式を解く"
   ]
  },
  {
   "cell_type": "code",
   "execution_count": 35,
   "metadata": {},
   "outputs": [
    {
     "data": {
      "text/plain": [
       "array([[0.80005206, 0.91140049],\n",
       "       [0.2455429 , 0.54408042],\n",
       "       [0.3987445 , 0.92675471]])"
      ]
     },
     "execution_count": 35,
     "metadata": {},
     "output_type": "execute_result"
    }
   ],
   "source": [
    "np.random.rand(3,2)"
   ]
  },
  {
   "cell_type": "code",
   "execution_count": 36,
   "metadata": {},
   "outputs": [
    {
     "data": {
      "text/plain": [
       "array([[24, 94, 78, 41],\n",
       "       [80,  2,  1, 11]])"
      ]
     },
     "execution_count": 36,
     "metadata": {},
     "output_type": "execute_result"
    }
   ],
   "source": [
    "np.random.randint(100,size = (2,4))"
   ]
  },
  {
   "cell_type": "code",
   "execution_count": 37,
   "metadata": {},
   "outputs": [],
   "source": [
    "import numpy as np\n",
    "def throw_dice(n):\n",
    "    return np.random.randint(1,6,size = n).sum()"
   ]
  },
  {
   "cell_type": "code",
   "execution_count": 38,
   "metadata": {},
   "outputs": [
    {
     "name": "stdout",
     "output_type": "stream",
     "text": [
      "36\n",
      "31\n"
     ]
    }
   ],
   "source": [
    "print(throw_dice(10))\n",
    "print(throw_dice(10))"
   ]
  },
  {
   "cell_type": "code",
   "execution_count": 39,
   "metadata": {},
   "outputs": [
    {
     "name": "stdout",
     "output_type": "stream",
     "text": [
      "[0.77132064 0.02075195 0.63364823 0.74880388 0.49850701]\n"
     ]
    }
   ],
   "source": [
    "np.random.seed(10)\n",
    "print(np.random.rand(5))"
   ]
  },
  {
   "cell_type": "code",
   "execution_count": 40,
   "metadata": {},
   "outputs": [
    {
     "name": "stdout",
     "output_type": "stream",
     "text": [
      "[0.77132064 0.02075195 0.63364823 0.74880388 0.49850701]\n"
     ]
    }
   ],
   "source": [
    "np.random.seed(10)\n",
    "print(np.random.rand(5))"
   ]
  },
  {
   "cell_type": "code",
   "execution_count": 41,
   "metadata": {},
   "outputs": [],
   "source": [
    "class Dice:\n",
    "    def __init__(self):\n",
    "        np.random.seed(0)\n",
    "        self.sum_ = 0\n",
    "        \n",
    "    def throw(self):\n",
    "        self.sum_ += np.random.randint(1,6)\n",
    "        \n",
    "    def get_sum(self):\n",
    "        return self.sum_\n",
    "        "
   ]
  },
  {
   "cell_type": "code",
   "execution_count": 42,
   "metadata": {},
   "outputs": [],
   "source": [
    "d1 = Dice()"
   ]
  },
  {
   "cell_type": "code",
   "execution_count": 43,
   "metadata": {},
   "outputs": [],
   "source": [
    "for i in range(10):\n",
    "    d1.throw()"
   ]
  },
  {
   "cell_type": "code",
   "execution_count": 44,
   "metadata": {},
   "outputs": [
    {
     "data": {
      "text/plain": [
       "33"
      ]
     },
     "execution_count": 44,
     "metadata": {},
     "output_type": "execute_result"
    }
   ],
   "source": [
    "d1.get_sum()"
   ]
  },
  {
   "cell_type": "code",
   "execution_count": 45,
   "metadata": {},
   "outputs": [
    {
     "data": {
      "text/plain": [
       "33"
      ]
     },
     "execution_count": 45,
     "metadata": {},
     "output_type": "execute_result"
    }
   ],
   "source": [
    "d2 = Dice()\n",
    "for i in range(10):\n",
    "    d2.throw()\n",
    "    \n",
    "d2.get_sum()"
   ]
  },
  {
   "cell_type": "code",
   "execution_count": 46,
   "metadata": {},
   "outputs": [
    {
     "name": "stdout",
     "output_type": "stream",
     "text": [
      "31\n",
      "26\n"
     ]
    }
   ],
   "source": [
    "d1 = Dice()\n",
    "d2 = Dice()\n",
    "for i in range(10):\n",
    "    d1.throw()\n",
    "    d2.throw()\n",
    "\n",
    "print(d1.get_sum())\n",
    "print(d2.get_sum())\n",
    "#出力結果が異なる！グローバル変数が問題。。わからん→"
   ]
  },
  {
   "cell_type": "code",
   "execution_count": 47,
   "metadata": {},
   "outputs": [],
   "source": [
    "class Dice():\n",
    "    def __init__(self,random_seed = None):\n",
    "        self.random_state_ = np.random.RandomState(random_seed)\n",
    "        self.sum_ = 0\n",
    "        \n",
    "    def throw(self):\n",
    "        self.sum_ += self.random_state_.randint(1,7)\n",
    "        \n",
    "    def get_sum(self):\n",
    "        return self.sum_"
   ]
  },
  {
   "cell_type": "code",
   "execution_count": 48,
   "metadata": {},
   "outputs": [
    {
     "data": {
      "text/plain": [
       "30"
      ]
     },
     "execution_count": 48,
     "metadata": {},
     "output_type": "execute_result"
    }
   ],
   "source": [
    "d1 = Dice()\n",
    "d2 = Dice()\n",
    "\n",
    "for i in range(10):\n",
    "    d1.throw()\n",
    "    d2.throw()\n",
    "\n",
    "d1.get_sum()\n"
   ]
  },
  {
   "cell_type": "code",
   "execution_count": 49,
   "metadata": {},
   "outputs": [
    {
     "name": "stdout",
     "output_type": "stream",
     "text": [
      "30\n"
     ]
    }
   ],
   "source": [
    "print(\"{}\".format(d1.get_sum()))"
   ]
  },
  {
   "cell_type": "code",
   "execution_count": 50,
   "metadata": {},
   "outputs": [
    {
     "data": {
      "text/plain": [
       "[<matplotlib.lines.Line2D at 0x113bfbfd0>]"
      ]
     },
     "execution_count": 50,
     "metadata": {},
     "output_type": "execute_result"
    },
    {
     "data": {
      "image/png": "[encoded data removed]",
      "text/plain": [
       "<matplotlib.figure.Figure at 0x113f84e10>"
      ]
     },
     "metadata": {},
     "output_type": "display_data"
    }
   ],
   "source": [
    "import numpy as np\n",
    "import matplotlib.pyplot as plt\n",
    "%matplotlib inline\n",
    "x = np.linspace(-5,5,300)\n",
    "sin_x = np.sin(x)\n",
    "cos_x = np.cos(x)\n",
    "\n",
    "fig, axes = plt.subplots(2,1)\n",
    "axes[0].set_ylim([-1.5,1.5])\n",
    "axes[1].set_ylim([-1.5,1.5])\n",
    "\n",
    "axes[0].plot(x,sin_x,color = \"r\")\n",
    "axes[1].plot(x,cos_x,color = \"k\")"
   ]
  },
  {
   "cell_type": "code",
   "execution_count": 51,
   "metadata": {},
   "outputs": [],
   "source": [
    "def f(x,y):\n",
    "    return x**2 + y**2/4\n",
    "\n",
    "x = np.linspace(-5,5,300)\n",
    "y = np.linspace(-5,5,300)\n",
    "\n",
    "xmesh, ymesh = np.meshgrid(x,y)"
   ]
  },
  {
   "cell_type": "code",
   "execution_count": 52,
   "metadata": {},
   "outputs": [
    {
     "name": "stdout",
     "output_type": "stream",
     "text": [
      "(90000,)\n"
     ]
    }
   ],
   "source": [
    "print(xmesh.ravel().shape)"
   ]
  },
  {
   "cell_type": "code",
   "execution_count": 53,
   "metadata": {},
   "outputs": [
    {
     "data": {
      "text/plain": [
       "<matplotlib.contour.QuadContourSet at 0x11d9e29e8>"
      ]
     },
     "execution_count": 53,
     "metadata": {},
     "output_type": "execute_result"
    },
    {
     "data": {
      "image/png": "[encoded data removed]",
      "text/plain": [
       "<matplotlib.figure.Figure at 0x11daa82b0>"
      ]
     },
     "metadata": {},
     "output_type": "display_data"
    }
   ],
   "source": [
    "#meshgirdの練習\n",
    "\n",
    "def f(x,y):\n",
    "    return x**2 + y**2/4\n",
    "fig, axes = plt.subplots(2,1)\n",
    "\n",
    "x = np.linspace(-5,5,300)\n",
    "y = np.linspace(-5,5,300)\n",
    "\n",
    "xmesh, ymesh = np.meshgrid(x,y)\n",
    "\n",
    "z = f(xmesh.ravel(),ymesh.ravel()).reshape(xmesh.shape)\n",
    "axes[0].contour(x,y,z)\n",
    "axes[1].contourf(x,y,z)"
   ]
  },
  {
   "cell_type": "markdown",
   "metadata": {},
   "source": [
    "# 数理最適化\n",
    "* 線形計画法\n",
    "* 勾配降下法\n",
    "* ニュートン法"
   ]
  },
  {
   "cell_type": "markdown",
   "metadata": {},
   "source": [
    "## 線形計画法 "
   ]
  },
  {
   "cell_type": "code",
   "execution_count": 54,
   "metadata": {},
   "outputs": [
    {
     "name": "stdout",
     "output_type": "stream",
     "text": [
      "[400. 200.]\n",
      "-2000.0\n"
     ]
    }
   ],
   "source": [
    "'''\n",
    "数理最適化問題をとくシステムはソルバと呼ばれる\n",
    "sol = optimize.linprog(c, A_ub = G, b_ub = h, bounds = (0,None))\n",
    "\n",
    "'''\n",
    "\n",
    "from scipy import optimize\n",
    "\n",
    "c = np.array([-3,-4],dtype = np.float64)\n",
    "G = np.array([[1,4],[2,3],[2,1]],dtype = np.float64)\n",
    "h = np.array([1700,1400,1000],dtype = np.float64)\n",
    "sol = optimize.linprog(c, A_ub = G, b_ub = h, bounds = (0,None))\n",
    "\n",
    "print(sol.x)\n",
    "print(sol.fun)"
   ]
  },
  {
   "cell_type": "code",
   "execution_count": 55,
   "metadata": {},
   "outputs": [
    {
     "name": "stdout",
     "output_type": "stream",
     "text": [
      "[[ 1.]\n",
      " [-1.]]\n",
      "-1.0000000000000013\n"
     ]
    }
   ],
   "source": [
    "import cvxopt\n",
    "\n",
    "p = cvxopt.matrix(np.array([[2,1],[1,2]],dtype = np.float64))\n",
    "q = cvxopt.matrix(np.array([2,4], dtype = np.float64))\n",
    "A = cvxopt.matrix(np.array([[1,1]], dtype = np.float64))\n",
    "b =cvxopt.matrix(np.array([0], dtype = np.float64))\n",
    "\n",
    "sol = cvxopt.solvers.qp(p,q,A = A,b = b)\n",
    "\n",
    "print(np.array(sol[\"x\"]))\n",
    "print(np.array(sol[\"primal objective\"]))"
   ]
  },
  {
   "cell_type": "code",
   "execution_count": 56,
   "metadata": {},
   "outputs": [],
   "source": [
    "#GD：勾配降下法\n",
    "import numpy as np\n",
    "class GradientDescent:\n",
    "    def __init__(self,f,df,alpha=0.01,esp=1e-6):\n",
    "        self.f = f\n",
    "        self.df = df\n",
    "        self.alpha = alpha\n",
    "        self.esp = esp\n",
    "        self.path = None\n",
    "    \n",
    "    def solve(self,init):\n",
    "        x = init\n",
    "        path = []\n",
    "        grad = self.df(x)\n",
    "        path.append(x)\n",
    "        while (grad**2).sum()>self.esp**2:\n",
    "            x = x - self.alpha*grad\n",
    "            grad = self.df(x)\n",
    "            path.append(x)\n",
    "        self.path_ = np.array(path)\n",
    "        self.x_ = x\n",
    "        self.opt_ = self.f(x)"
   ]
  },
  {
   "cell_type": "code",
   "execution_count": 57,
   "metadata": {},
   "outputs": [
    {
     "name": "stdout",
     "output_type": "stream",
     "text": [
      "[3.45722846e-07 1.00000048e+00]\n",
      "-2.9999999999997073\n"
     ]
    }
   ],
   "source": [
    "#実際に計算してみる\n",
    "\n",
    "def f(xx):\n",
    "    x = xx[0]\n",
    "    y = xx[1]\n",
    "    return 5*x**2-6*x*y+3*y**2+6*x-6*y\n",
    "\n",
    "def df(xx):\n",
    "    x = xx[0]\n",
    "    y = xx[1]\n",
    "    return np.array([10*x-6*y+6,-6*x+6*y-6])\n",
    "\n",
    "algo = GradientDescent(f,df)\n",
    "initial = np.array([1,1])\n",
    "algo.solve(initial)\n",
    "print(algo.x_)\n",
    "print(algo.opt_)"
   ]
  },
  {
   "cell_type": "code",
   "execution_count": 58,
   "metadata": {},
   "outputs": [
    {
     "name": "stderr",
     "output_type": "stream",
     "text": [
      "/Users/Kohei/.pyenv/versions/anaconda3-5.1.0/lib/python3.6/site-packages/matplotlib/contour.py:967: UserWarning: The following kwargs were not used by contour: 'linestyle'\n",
      "  s)\n"
     ]
    },
    {
     "data": {
      "text/plain": [
       "<matplotlib.contour.QuadContourSet at 0x151f32eeb8>"
      ]
     },
     "execution_count": 58,
     "metadata": {},
     "output_type": "execute_result"
    },
    {
     "data": {
      "image/png": "[encoded data removed]",
      "text/plain": [
       "<matplotlib.figure.Figure at 0x11da37c88>"
      ]
     },
     "metadata": {},
     "output_type": "display_data"
    }
   ],
   "source": [
    "import matplotlib.pyplot as plt\n",
    "%matplotlib inline\n",
    "\n",
    "plt.scatter(initial[0],initial[1],color=\"k\",marker=\"o\")\n",
    "plt.plot(algo.path_[:,0],algo.path_[:,1],color=\"k\",linewidth=1.5)\n",
    "xs = np.linspace(-2,2,300)\n",
    "ys = np.linspace(-2,2,300)\n",
    "xmesh,ymesh = np.meshgrid(xs,ys)\n",
    "xx = np.r_[xmesh.reshape(1,-1),ymesh.reshape(1,-1)]\n",
    "levels  =[-3,-2.9,-2.8,-2.6,-2.4,-3.3,-2,-1,0,1,2,3,4]\n",
    "plt.contour(xs,ys,f(xx).reshape(xmesh.shape),levels = levels, colors=\"k\",linestyle=\"dotted\")"
   ]
  },
  {
   "cell_type": "code",
   "execution_count": 59,
   "metadata": {},
   "outputs": [
    {
     "data": {
      "text/plain": [
       "(300, 300)"
      ]
     },
     "execution_count": 59,
     "metadata": {},
     "output_type": "execute_result"
    }
   ],
   "source": [
    "xmesh.shape"
   ]
  },
  {
   "cell_type": "code",
   "execution_count": 60,
   "metadata": {},
   "outputs": [
    {
     "data": {
      "text/plain": [
       "(1, 90000)"
      ]
     },
     "execution_count": 60,
     "metadata": {},
     "output_type": "execute_result"
    }
   ],
   "source": [
    "xmesh.reshape(1,-1).shape"
   ]
  },
  {
   "cell_type": "markdown",
   "metadata": {},
   "source": [
    "## ニュートン法"
   ]
  },
  {
   "cell_type": "code",
   "execution_count": 61,
   "metadata": {},
   "outputs": [],
   "source": [
    "def newton1dim(f,df,x0,eps=1e-10,max_iter=1000):\n",
    "    x = x0\n",
    "    iter = 0\n",
    "    while True:\n",
    "        x_new = x - f(x)/df(x)\n",
    "        if abs(x-x_new)<eps:\n",
    "            break\n",
    "        x = x_new\n",
    "        iter += 1\n",
    "        if iter == max_iter:\n",
    "            break\n",
    "    return x_new"
   ]
  },
  {
   "cell_type": "code",
   "execution_count": 62,
   "metadata": {},
   "outputs": [
    {
     "name": "stdout",
     "output_type": "stream",
     "text": [
      "2.1284190638445777\n",
      "0.20163967572340463\n",
      "-2.330058739567982\n"
     ]
    }
   ],
   "source": [
    "def f(x):\n",
    "    return x**3-5*x+1\n",
    "def df(x):\n",
    "    return 3*x**2-5\n",
    "\n",
    "print(newton1dim(f,df,2))\n",
    "print(newton1dim(f,df,0))\n",
    "print(newton1dim(f,df,-3))"
   ]
  },
  {
   "cell_type": "code",
   "execution_count": 63,
   "metadata": {},
   "outputs": [],
   "source": [
    "from numpy import linalg\n",
    "class Neuton:\n",
    "    def __init__(self,f,df,eps=1e-10,max_iter=1000):\n",
    "        self.f = f\n",
    "        self.df = df \n",
    "        self.eps = eps\n",
    "        self.max_iter = max_iter\n",
    "        \n",
    "    def solve(self,x0):\n",
    "        x = x0\n",
    "        iter = 0\n",
    "        self.path_ = x0.reshape(1,-1)\n",
    "        while True:\n",
    "            x_new = w - np.dot(linalg.inv(self.df(x)),self.f(x))\n",
    "            self.path_ = np.r_[self.path_,x_new.reshape(1,-1)]\n",
    "            if ((x - x_new)**2)<self.eps**2:\n",
    "                break\n",
    "            x = x_new\n",
    "            iter += 1\n",
    "            if iter == max_iter:\n",
    "                break\n",
    "        return x_new\n"
   ]
  },
  {
   "cell_type": "code",
   "execution_count": 64,
   "metadata": {},
   "outputs": [
    {
     "ename": "TypeError",
     "evalue": "f() takes 1 positional argument but 2 were given",
     "output_type": "error",
     "traceback": [
      "\u001b[0;31m---------------------------------------------------------------------------\u001b[0m",
      "\u001b[0;31mTypeError\u001b[0m                                 Traceback (most recent call last)",
      "\u001b[0;32m<ipython-input-64-d4f782375ba8>\u001b[0m in \u001b[0;36m<module>\u001b[0;34m()\u001b[0m\n\u001b[1;32m     22\u001b[0m \u001b[0my\u001b[0m \u001b[0;34m=\u001b[0m \u001b[0mnp\u001b[0m\u001b[0;34m.\u001b[0m\u001b[0mlinspace\u001b[0m\u001b[0;34m(\u001b[0m\u001b[0mymin\u001b[0m\u001b[0;34m,\u001b[0m\u001b[0mymax\u001b[0m\u001b[0;34m,\u001b[0m\u001b[0;36m200\u001b[0m\u001b[0;34m)\u001b[0m\u001b[0;34m\u001b[0m\u001b[0m\n\u001b[1;32m     23\u001b[0m \u001b[0mxmesh\u001b[0m\u001b[0;34m,\u001b[0m\u001b[0mymesh\u001b[0m \u001b[0;34m=\u001b[0m \u001b[0mnp\u001b[0m\u001b[0;34m.\u001b[0m\u001b[0mmeshgrid\u001b[0m\u001b[0;34m(\u001b[0m\u001b[0mx\u001b[0m\u001b[0;34m,\u001b[0m\u001b[0my\u001b[0m\u001b[0;34m)\u001b[0m\u001b[0;34m\u001b[0m\u001b[0m\n\u001b[0;32m---> 24\u001b[0;31m \u001b[0mz1\u001b[0m \u001b[0;34m=\u001b[0m \u001b[0mf\u001b[0m\u001b[0;34m(\u001b[0m\u001b[0mxmesh\u001b[0m\u001b[0;34m,\u001b[0m \u001b[0mymesh\u001b[0m\u001b[0;34m)\u001b[0m\u001b[0;34m\u001b[0m\u001b[0m\n\u001b[0m\u001b[1;32m     25\u001b[0m \u001b[0mz2\u001b[0m \u001b[0;34m=\u001b[0m \u001b[0mf\u001b[0m\u001b[0;34m(\u001b[0m\u001b[0mxmesh\u001b[0m\u001b[0;34m,\u001b[0m \u001b[0mymesh\u001b[0m\u001b[0;34m)\u001b[0m\u001b[0;34m\u001b[0m\u001b[0m\n",
      "\u001b[0;31mTypeError\u001b[0m: f() takes 1 positional argument but 2 were given"
     ]
    },
    {
     "data": {
      "image/png": "[encoded data removed]",
      "text/plain": [
       "<matplotlib.figure.Figure at 0x151f27abe0>"
      ]
     },
     "metadata": {},
     "output_type": "display_data"
    }
   ],
   "source": [
    "def f1(x1,x2):\n",
    "    return x**3-2*y\n",
    "\n",
    "def f2(x1,x2):\n",
    "    return x**2+y**2-1\n",
    "\n",
    "#行列化\n",
    "def f(xx):\n",
    "    x = xx[0]\n",
    "    y = xx[1]\n",
    "    return np.array([f1(x,y),f2(x,y)])\n",
    "#ヤコビアン\n",
    "def df(xx):\n",
    "    x = xx[0]\n",
    "    y = xx[1]\n",
    "    return np.array([[(3*x**2,-2),(2*x,2*y)]])\n",
    "\n",
    "xmin,xmax,ymin,ymax = -3,3,-3,3\n",
    "plt.xlim(xmin,xmax)\n",
    "plt.ylim(ymin,ymax)\n",
    "x = np.linspace(xmin,xmax,200)\n",
    "y = np.linspace(ymin,ymax,200)\n",
    "xmesh,ymesh = np.meshgrid(x,y)\n",
    "z1 = f(xmesh, ymesh)\n",
    "z2 = f(xmesh, ymesh)\n"
   ]
  },
  {
   "cell_type": "code",
   "execution_count": null,
   "metadata": {},
   "outputs": [],
   "source": [
    "z1.shape,z2.shape"
   ]
  },
  {
   "cell_type": "code",
   "execution_count": null,
   "metadata": {},
   "outputs": [],
   "source": [
    "xmesh.shape"
   ]
  },
  {
   "cell_type": "code",
   "execution_count": null,
   "metadata": {},
   "outputs": [],
   "source": [
    "plt.contour(xmesh, ymesh, z1, color=\"r\", lavels=[0])\n",
    "plt.contour(xmesh, ymesh, z2, color=\"k\", lavels=[0])\n",
    "\n",
    "solver = newton(f,df)\n",
    "\n",
    "initilas = [np.array([1,1]),\n",
    "            np.array([-1,-1]),\n",
    "            np.array([1,-1])]\n",
    "\n",
    "markers = [\"x\",\"*\",\"x\"]\n",
    "\n",
    "for x0, m in zip(initials, markers):\n",
    "    sol = solver.solve(x0)\n",
    "    plt.scatter(solver.path_[:,0],\n",
    "               solver.poth_[:,1],color=\"k\",marker=m)\n",
    "    print(sol)\n",
    "\n"
   ]
  },
  {
   "cell_type": "markdown",
   "metadata": {},
   "source": [
    "## 統計 "
   ]
  },
  {
   "cell_type": "code",
   "execution_count": 67,
   "metadata": {},
   "outputs": [
    {
     "name": "stdout",
     "output_type": "stream",
     "text": [
      "平均値:23.725\n",
      "標準偏差:2.0953818267800264\n"
     ]
    }
   ],
   "source": [
    "import numpy as np\n",
    "x  = np.array([21.9,22.5,25.2,25,26,28,26,24.5,\n",
    "              20.9,23.5,21.2,22,24,24.4,20,24.5])\n",
    "m = x.sum()/len(x)\n",
    "s = np.sqrt(((x-m)**2).sum()/len(x))\n",
    "print(\"平均値:{}\".format(m))\n",
    "print(\"標準偏差:{}\".format(s))\n",
    "#標準偏差の二乗→分散"
   ]
  },
  {
   "cell_type": "code",
   "execution_count": 70,
   "metadata": {},
   "outputs": [
    {
     "name": "stdout",
     "output_type": "stream",
     "text": [
      "23.725\n",
      "2.0953818267800264\n"
     ]
    }
   ],
   "source": [
    "print(x.mean())\n",
    "print(x.std())"
   ]
  },
  {
   "cell_type": "code",
   "execution_count": 75,
   "metadata": {},
   "outputs": [
    {
     "data": {
      "text/plain": [
       "[<matplotlib.lines.Line2D at 0x1a20213160>]"
      ]
     },
     "execution_count": 75,
     "metadata": {},
     "output_type": "execute_result"
    },
    {
     "data": {
      "image/png": "[encoded data removed]",
      "text/plain": [
       "<matplotlib.figure.Figure at 0x1a2015bcc0>"
      ]
     },
     "metadata": {},
     "output_type": "display_data"
    }
   ],
   "source": [
    "from scipy.stats import norm\n",
    "\n",
    "x = np.linspace(-5,5)\n",
    "y = norm.pdf(x)\n",
    "plt.plot(x,y,color=\"r\")"
   ]
  },
  {
   "cell_type": "code",
   "execution_count": 76,
   "metadata": {},
   "outputs": [
    {
     "data": {
      "text/plain": [
       "[<matplotlib.lines.Line2D at 0x1a202d26a0>]"
      ]
     },
     "execution_count": 76,
     "metadata": {},
     "output_type": "execute_result"
    },
    {
     "data": {
      "image/png": "[encoded data removed]",
      "text/plain": [
       "<matplotlib.figure.Figure at 0x1a20196518>"
      ]
     },
     "metadata": {},
     "output_type": "display_data"
    }
   ],
   "source": [
    "y = norm.pdf(x,loc=1,scale=2)\n",
    "plt.plot(x,y,color=\"r\")"
   ]
  },
  {
   "cell_type": "code",
   "execution_count": null,
   "metadata": {},
   "outputs": [],
   "source": []
  }
 ],
 "metadata": {
  "kernelspec": {
   "display_name": "Python 3",
   "language": "python",
   "name": "python3"
  },
  "language_info": {
   "codemirror_mode": {
    "name": "ipython",
    "version": 3
   },
   "file_extension": ".py",
   "mimetype": "text/x-python",
   "name": "python",
   "nbconvert_exporter": "python",
   "pygments_lexer": "ipython3",
   "version": "3.6.4"
  }
 },
 "nbformat": 4,
 "nbformat_minor": 2
}
